{
 "cells": [
  {
   "cell_type": "code",
   "execution_count": 44,
   "id": "62f69e12",
   "metadata": {},
   "outputs": [],
   "source": [
    "#KNN model\n",
    "#importing relevent packages\n",
    "import pandas as pd\n",
    "import numpy as np\n",
    "from sklearn import preprocessing\n",
    "from sklearn.model_selection import train_test_split\n",
    "from sklearn import metrics\n",
    "from sklearn.model_selection import GridSearchCV\n",
    "from sklearn.neighbors import KNeighborsClassifier  \n",
    "from sklearn.metrics import classification_report, confusion_matrix, accuracy_score \n"
   ]
  },
  {
   "cell_type": "code",
   "execution_count": 45,
   "id": "a7b8e852",
   "metadata": {},
   "outputs": [],
   "source": [
    "#obtaining the data set\n",
    "dataset = pd.read_csv('Mobile_Dataset.csv')"
   ]
  },
  {
   "cell_type": "code",
   "execution_count": 46,
   "id": "95c8ab4b",
   "metadata": {},
   "outputs": [
    {
     "data": {
      "text/html": [
       "<div>\n",
       "<style scoped>\n",
       "    .dataframe tbody tr th:only-of-type {\n",
       "        vertical-align: middle;\n",
       "    }\n",
       "\n",
       "    .dataframe tbody tr th {\n",
       "        vertical-align: top;\n",
       "    }\n",
       "\n",
       "    .dataframe thead th {\n",
       "        text-align: right;\n",
       "    }\n",
       "</style>\n",
       "<table border=\"1\" class=\"dataframe\">\n",
       "  <thead>\n",
       "    <tr style=\"text-align: right;\">\n",
       "      <th></th>\n",
       "      <th>battery_power</th>\n",
       "      <th>blue</th>\n",
       "      <th>clock_speed</th>\n",
       "      <th>dual_sim</th>\n",
       "      <th>fc</th>\n",
       "      <th>four_g</th>\n",
       "      <th>int_memory</th>\n",
       "      <th>m_dep</th>\n",
       "      <th>mobile_wt</th>\n",
       "      <th>n_cores</th>\n",
       "      <th>...</th>\n",
       "      <th>px_height</th>\n",
       "      <th>px_width</th>\n",
       "      <th>ram</th>\n",
       "      <th>sc_h</th>\n",
       "      <th>sc_w</th>\n",
       "      <th>talk_time</th>\n",
       "      <th>three_g</th>\n",
       "      <th>touch_screen</th>\n",
       "      <th>wifi</th>\n",
       "      <th>price_range</th>\n",
       "    </tr>\n",
       "  </thead>\n",
       "  <tbody>\n",
       "    <tr>\n",
       "      <th>0</th>\n",
       "      <td>842</td>\n",
       "      <td>0</td>\n",
       "      <td>2.2</td>\n",
       "      <td>0</td>\n",
       "      <td>1</td>\n",
       "      <td>0</td>\n",
       "      <td>7</td>\n",
       "      <td>0.6</td>\n",
       "      <td>188</td>\n",
       "      <td>2</td>\n",
       "      <td>...</td>\n",
       "      <td>20</td>\n",
       "      <td>756</td>\n",
       "      <td>2549</td>\n",
       "      <td>9</td>\n",
       "      <td>7</td>\n",
       "      <td>19</td>\n",
       "      <td>0</td>\n",
       "      <td>0</td>\n",
       "      <td>1</td>\n",
       "      <td>1</td>\n",
       "    </tr>\n",
       "    <tr>\n",
       "      <th>1</th>\n",
       "      <td>1021</td>\n",
       "      <td>1</td>\n",
       "      <td>0.5</td>\n",
       "      <td>1</td>\n",
       "      <td>0</td>\n",
       "      <td>1</td>\n",
       "      <td>53</td>\n",
       "      <td>0.7</td>\n",
       "      <td>136</td>\n",
       "      <td>3</td>\n",
       "      <td>...</td>\n",
       "      <td>905</td>\n",
       "      <td>1988</td>\n",
       "      <td>2631</td>\n",
       "      <td>17</td>\n",
       "      <td>3</td>\n",
       "      <td>7</td>\n",
       "      <td>1</td>\n",
       "      <td>1</td>\n",
       "      <td>0</td>\n",
       "      <td>2</td>\n",
       "    </tr>\n",
       "    <tr>\n",
       "      <th>2</th>\n",
       "      <td>563</td>\n",
       "      <td>1</td>\n",
       "      <td>0.5</td>\n",
       "      <td>1</td>\n",
       "      <td>2</td>\n",
       "      <td>1</td>\n",
       "      <td>41</td>\n",
       "      <td>0.9</td>\n",
       "      <td>145</td>\n",
       "      <td>5</td>\n",
       "      <td>...</td>\n",
       "      <td>1263</td>\n",
       "      <td>1716</td>\n",
       "      <td>2603</td>\n",
       "      <td>11</td>\n",
       "      <td>2</td>\n",
       "      <td>9</td>\n",
       "      <td>1</td>\n",
       "      <td>1</td>\n",
       "      <td>0</td>\n",
       "      <td>2</td>\n",
       "    </tr>\n",
       "    <tr>\n",
       "      <th>3</th>\n",
       "      <td>615</td>\n",
       "      <td>1</td>\n",
       "      <td>2.5</td>\n",
       "      <td>0</td>\n",
       "      <td>0</td>\n",
       "      <td>0</td>\n",
       "      <td>10</td>\n",
       "      <td>0.8</td>\n",
       "      <td>131</td>\n",
       "      <td>6</td>\n",
       "      <td>...</td>\n",
       "      <td>1216</td>\n",
       "      <td>1786</td>\n",
       "      <td>2769</td>\n",
       "      <td>16</td>\n",
       "      <td>8</td>\n",
       "      <td>11</td>\n",
       "      <td>1</td>\n",
       "      <td>0</td>\n",
       "      <td>0</td>\n",
       "      <td>2</td>\n",
       "    </tr>\n",
       "    <tr>\n",
       "      <th>4</th>\n",
       "      <td>1821</td>\n",
       "      <td>1</td>\n",
       "      <td>1.2</td>\n",
       "      <td>0</td>\n",
       "      <td>13</td>\n",
       "      <td>1</td>\n",
       "      <td>44</td>\n",
       "      <td>0.6</td>\n",
       "      <td>141</td>\n",
       "      <td>2</td>\n",
       "      <td>...</td>\n",
       "      <td>1208</td>\n",
       "      <td>1212</td>\n",
       "      <td>1411</td>\n",
       "      <td>8</td>\n",
       "      <td>2</td>\n",
       "      <td>15</td>\n",
       "      <td>1</td>\n",
       "      <td>1</td>\n",
       "      <td>0</td>\n",
       "      <td>1</td>\n",
       "    </tr>\n",
       "  </tbody>\n",
       "</table>\n",
       "<p>5 rows × 21 columns</p>\n",
       "</div>"
      ],
      "text/plain": [
       "   battery_power  blue  clock_speed  dual_sim  fc  four_g  int_memory  m_dep  \\\n",
       "0            842     0          2.2         0   1       0           7    0.6   \n",
       "1           1021     1          0.5         1   0       1          53    0.7   \n",
       "2            563     1          0.5         1   2       1          41    0.9   \n",
       "3            615     1          2.5         0   0       0          10    0.8   \n",
       "4           1821     1          1.2         0  13       1          44    0.6   \n",
       "\n",
       "   mobile_wt  n_cores  ...  px_height  px_width   ram  sc_h  sc_w  talk_time  \\\n",
       "0        188        2  ...         20       756  2549     9     7         19   \n",
       "1        136        3  ...        905      1988  2631    17     3          7   \n",
       "2        145        5  ...       1263      1716  2603    11     2          9   \n",
       "3        131        6  ...       1216      1786  2769    16     8         11   \n",
       "4        141        2  ...       1208      1212  1411     8     2         15   \n",
       "\n",
       "   three_g  touch_screen  wifi  price_range  \n",
       "0        0             0     1            1  \n",
       "1        1             1     0            2  \n",
       "2        1             1     0            2  \n",
       "3        1             0     0            2  \n",
       "4        1             1     0            1  \n",
       "\n",
       "[5 rows x 21 columns]"
      ]
     },
     "execution_count": 46,
     "metadata": {},
     "output_type": "execute_result"
    }
   ],
   "source": [
    "dataset.head()"
   ]
  },
  {
   "cell_type": "code",
   "execution_count": 47,
   "id": "78b7e475",
   "metadata": {},
   "outputs": [
    {
     "data": {
      "text/plain": [
       "Index(['battery_power', 'blue', 'clock_speed', 'dual_sim', 'fc', 'four_g',\n",
       "       'int_memory', 'm_dep', 'mobile_wt', 'n_cores', 'pc', 'px_height',\n",
       "       'px_width', 'ram', 'sc_h', 'sc_w', 'talk_time', 'three_g',\n",
       "       'touch_screen', 'wifi', 'price_range'],\n",
       "      dtype='object')"
      ]
     },
     "execution_count": 47,
     "metadata": {},
     "output_type": "execute_result"
    }
   ],
   "source": [
    "#obtaining columns\n",
    "dataset.columns"
   ]
  },
  {
   "cell_type": "code",
   "execution_count": 48,
   "id": "e086d5b2",
   "metadata": {},
   "outputs": [
    {
     "data": {
      "text/plain": [
       "battery_power      int64\n",
       "blue               int64\n",
       "clock_speed      float64\n",
       "dual_sim           int64\n",
       "fc                 int64\n",
       "four_g             int64\n",
       "int_memory         int64\n",
       "m_dep            float64\n",
       "mobile_wt          int64\n",
       "n_cores            int64\n",
       "pc                 int64\n",
       "px_height          int64\n",
       "px_width           int64\n",
       "ram                int64\n",
       "sc_h               int64\n",
       "sc_w               int64\n",
       "talk_time          int64\n",
       "three_g            int64\n",
       "touch_screen       int64\n",
       "wifi               int64\n",
       "price_range        int64\n",
       "dtype: object"
      ]
     },
     "execution_count": 48,
     "metadata": {},
     "output_type": "execute_result"
    }
   ],
   "source": [
    "#data types of variables\n",
    "dataset.dtypes"
   ]
  },
  {
   "cell_type": "code",
   "execution_count": 49,
   "id": "a1fe751f",
   "metadata": {},
   "outputs": [
    {
     "data": {
      "text/plain": [
       "(2000, 21)"
      ]
     },
     "execution_count": 49,
     "metadata": {},
     "output_type": "execute_result"
    }
   ],
   "source": [
    "dataset.shape"
   ]
  },
  {
   "cell_type": "code",
   "execution_count": 50,
   "id": "a769daf4",
   "metadata": {},
   "outputs": [
    {
     "data": {
      "text/plain": [
       "battery_power    0\n",
       "blue             0\n",
       "clock_speed      0\n",
       "dual_sim         0\n",
       "fc               0\n",
       "four_g           0\n",
       "int_memory       0\n",
       "m_dep            0\n",
       "mobile_wt        0\n",
       "n_cores          0\n",
       "pc               0\n",
       "px_height        0\n",
       "px_width         0\n",
       "ram              0\n",
       "sc_h             0\n",
       "sc_w             0\n",
       "talk_time        0\n",
       "three_g          0\n",
       "touch_screen     0\n",
       "wifi             0\n",
       "price_range      0\n",
       "dtype: int64"
      ]
     },
     "execution_count": 50,
     "metadata": {},
     "output_type": "execute_result"
    }
   ],
   "source": [
    "#check whether there are null values\n",
    "pd.isnull(dataset).sum()"
   ]
  },
  {
   "cell_type": "code",
   "execution_count": 51,
   "id": "fc6143b3",
   "metadata": {},
   "outputs": [
    {
     "data": {
      "text/html": [
       "<div>\n",
       "<style scoped>\n",
       "    .dataframe tbody tr th:only-of-type {\n",
       "        vertical-align: middle;\n",
       "    }\n",
       "\n",
       "    .dataframe tbody tr th {\n",
       "        vertical-align: top;\n",
       "    }\n",
       "\n",
       "    .dataframe thead th {\n",
       "        text-align: right;\n",
       "    }\n",
       "</style>\n",
       "<table border=\"1\" class=\"dataframe\">\n",
       "  <thead>\n",
       "    <tr style=\"text-align: right;\">\n",
       "      <th></th>\n",
       "      <th>battery_power</th>\n",
       "      <th>blue</th>\n",
       "      <th>clock_speed</th>\n",
       "      <th>dual_sim</th>\n",
       "      <th>fc</th>\n",
       "      <th>four_g</th>\n",
       "      <th>int_memory</th>\n",
       "      <th>m_dep</th>\n",
       "      <th>mobile_wt</th>\n",
       "      <th>n_cores</th>\n",
       "      <th>...</th>\n",
       "      <th>px_height</th>\n",
       "      <th>px_width</th>\n",
       "      <th>ram</th>\n",
       "      <th>sc_h</th>\n",
       "      <th>sc_w</th>\n",
       "      <th>talk_time</th>\n",
       "      <th>three_g</th>\n",
       "      <th>touch_screen</th>\n",
       "      <th>wifi</th>\n",
       "      <th>price_range</th>\n",
       "    </tr>\n",
       "  </thead>\n",
       "  <tbody>\n",
       "    <tr>\n",
       "      <th>count</th>\n",
       "      <td>2000.000000</td>\n",
       "      <td>2000.0000</td>\n",
       "      <td>2000.000000</td>\n",
       "      <td>2000.000000</td>\n",
       "      <td>2000.000000</td>\n",
       "      <td>2000.000000</td>\n",
       "      <td>2000.000000</td>\n",
       "      <td>2000.000000</td>\n",
       "      <td>2000.000000</td>\n",
       "      <td>2000.000000</td>\n",
       "      <td>...</td>\n",
       "      <td>2000.000000</td>\n",
       "      <td>2000.000000</td>\n",
       "      <td>2000.000000</td>\n",
       "      <td>2000.000000</td>\n",
       "      <td>2000.000000</td>\n",
       "      <td>2000.000000</td>\n",
       "      <td>2000.000000</td>\n",
       "      <td>2000.000000</td>\n",
       "      <td>2000.000000</td>\n",
       "      <td>2000.000000</td>\n",
       "    </tr>\n",
       "    <tr>\n",
       "      <th>mean</th>\n",
       "      <td>1238.518500</td>\n",
       "      <td>0.4950</td>\n",
       "      <td>1.522250</td>\n",
       "      <td>0.509500</td>\n",
       "      <td>4.309500</td>\n",
       "      <td>0.521500</td>\n",
       "      <td>32.046500</td>\n",
       "      <td>0.501750</td>\n",
       "      <td>140.249000</td>\n",
       "      <td>4.520500</td>\n",
       "      <td>...</td>\n",
       "      <td>645.108000</td>\n",
       "      <td>1251.515500</td>\n",
       "      <td>2124.213000</td>\n",
       "      <td>12.306500</td>\n",
       "      <td>5.767000</td>\n",
       "      <td>11.011000</td>\n",
       "      <td>0.761500</td>\n",
       "      <td>0.503000</td>\n",
       "      <td>0.507000</td>\n",
       "      <td>1.500000</td>\n",
       "    </tr>\n",
       "    <tr>\n",
       "      <th>std</th>\n",
       "      <td>439.418206</td>\n",
       "      <td>0.5001</td>\n",
       "      <td>0.816004</td>\n",
       "      <td>0.500035</td>\n",
       "      <td>4.341444</td>\n",
       "      <td>0.499662</td>\n",
       "      <td>18.145715</td>\n",
       "      <td>0.288416</td>\n",
       "      <td>35.399655</td>\n",
       "      <td>2.287837</td>\n",
       "      <td>...</td>\n",
       "      <td>443.780811</td>\n",
       "      <td>432.199447</td>\n",
       "      <td>1084.732044</td>\n",
       "      <td>4.213245</td>\n",
       "      <td>4.356398</td>\n",
       "      <td>5.463955</td>\n",
       "      <td>0.426273</td>\n",
       "      <td>0.500116</td>\n",
       "      <td>0.500076</td>\n",
       "      <td>1.118314</td>\n",
       "    </tr>\n",
       "    <tr>\n",
       "      <th>min</th>\n",
       "      <td>501.000000</td>\n",
       "      <td>0.0000</td>\n",
       "      <td>0.500000</td>\n",
       "      <td>0.000000</td>\n",
       "      <td>0.000000</td>\n",
       "      <td>0.000000</td>\n",
       "      <td>2.000000</td>\n",
       "      <td>0.100000</td>\n",
       "      <td>80.000000</td>\n",
       "      <td>1.000000</td>\n",
       "      <td>...</td>\n",
       "      <td>0.000000</td>\n",
       "      <td>500.000000</td>\n",
       "      <td>256.000000</td>\n",
       "      <td>5.000000</td>\n",
       "      <td>0.000000</td>\n",
       "      <td>2.000000</td>\n",
       "      <td>0.000000</td>\n",
       "      <td>0.000000</td>\n",
       "      <td>0.000000</td>\n",
       "      <td>0.000000</td>\n",
       "    </tr>\n",
       "    <tr>\n",
       "      <th>25%</th>\n",
       "      <td>851.750000</td>\n",
       "      <td>0.0000</td>\n",
       "      <td>0.700000</td>\n",
       "      <td>0.000000</td>\n",
       "      <td>1.000000</td>\n",
       "      <td>0.000000</td>\n",
       "      <td>16.000000</td>\n",
       "      <td>0.200000</td>\n",
       "      <td>109.000000</td>\n",
       "      <td>3.000000</td>\n",
       "      <td>...</td>\n",
       "      <td>282.750000</td>\n",
       "      <td>874.750000</td>\n",
       "      <td>1207.500000</td>\n",
       "      <td>9.000000</td>\n",
       "      <td>2.000000</td>\n",
       "      <td>6.000000</td>\n",
       "      <td>1.000000</td>\n",
       "      <td>0.000000</td>\n",
       "      <td>0.000000</td>\n",
       "      <td>0.750000</td>\n",
       "    </tr>\n",
       "    <tr>\n",
       "      <th>50%</th>\n",
       "      <td>1226.000000</td>\n",
       "      <td>0.0000</td>\n",
       "      <td>1.500000</td>\n",
       "      <td>1.000000</td>\n",
       "      <td>3.000000</td>\n",
       "      <td>1.000000</td>\n",
       "      <td>32.000000</td>\n",
       "      <td>0.500000</td>\n",
       "      <td>141.000000</td>\n",
       "      <td>4.000000</td>\n",
       "      <td>...</td>\n",
       "      <td>564.000000</td>\n",
       "      <td>1247.000000</td>\n",
       "      <td>2146.500000</td>\n",
       "      <td>12.000000</td>\n",
       "      <td>5.000000</td>\n",
       "      <td>11.000000</td>\n",
       "      <td>1.000000</td>\n",
       "      <td>1.000000</td>\n",
       "      <td>1.000000</td>\n",
       "      <td>1.500000</td>\n",
       "    </tr>\n",
       "    <tr>\n",
       "      <th>75%</th>\n",
       "      <td>1615.250000</td>\n",
       "      <td>1.0000</td>\n",
       "      <td>2.200000</td>\n",
       "      <td>1.000000</td>\n",
       "      <td>7.000000</td>\n",
       "      <td>1.000000</td>\n",
       "      <td>48.000000</td>\n",
       "      <td>0.800000</td>\n",
       "      <td>170.000000</td>\n",
       "      <td>7.000000</td>\n",
       "      <td>...</td>\n",
       "      <td>947.250000</td>\n",
       "      <td>1633.000000</td>\n",
       "      <td>3064.500000</td>\n",
       "      <td>16.000000</td>\n",
       "      <td>9.000000</td>\n",
       "      <td>16.000000</td>\n",
       "      <td>1.000000</td>\n",
       "      <td>1.000000</td>\n",
       "      <td>1.000000</td>\n",
       "      <td>2.250000</td>\n",
       "    </tr>\n",
       "    <tr>\n",
       "      <th>max</th>\n",
       "      <td>1998.000000</td>\n",
       "      <td>1.0000</td>\n",
       "      <td>3.000000</td>\n",
       "      <td>1.000000</td>\n",
       "      <td>19.000000</td>\n",
       "      <td>1.000000</td>\n",
       "      <td>64.000000</td>\n",
       "      <td>1.000000</td>\n",
       "      <td>200.000000</td>\n",
       "      <td>8.000000</td>\n",
       "      <td>...</td>\n",
       "      <td>1960.000000</td>\n",
       "      <td>1998.000000</td>\n",
       "      <td>3998.000000</td>\n",
       "      <td>19.000000</td>\n",
       "      <td>18.000000</td>\n",
       "      <td>20.000000</td>\n",
       "      <td>1.000000</td>\n",
       "      <td>1.000000</td>\n",
       "      <td>1.000000</td>\n",
       "      <td>3.000000</td>\n",
       "    </tr>\n",
       "  </tbody>\n",
       "</table>\n",
       "<p>8 rows × 21 columns</p>\n",
       "</div>"
      ],
      "text/plain": [
       "       battery_power       blue  clock_speed     dual_sim           fc  \\\n",
       "count    2000.000000  2000.0000  2000.000000  2000.000000  2000.000000   \n",
       "mean     1238.518500     0.4950     1.522250     0.509500     4.309500   \n",
       "std       439.418206     0.5001     0.816004     0.500035     4.341444   \n",
       "min       501.000000     0.0000     0.500000     0.000000     0.000000   \n",
       "25%       851.750000     0.0000     0.700000     0.000000     1.000000   \n",
       "50%      1226.000000     0.0000     1.500000     1.000000     3.000000   \n",
       "75%      1615.250000     1.0000     2.200000     1.000000     7.000000   \n",
       "max      1998.000000     1.0000     3.000000     1.000000    19.000000   \n",
       "\n",
       "            four_g   int_memory        m_dep    mobile_wt      n_cores  ...  \\\n",
       "count  2000.000000  2000.000000  2000.000000  2000.000000  2000.000000  ...   \n",
       "mean      0.521500    32.046500     0.501750   140.249000     4.520500  ...   \n",
       "std       0.499662    18.145715     0.288416    35.399655     2.287837  ...   \n",
       "min       0.000000     2.000000     0.100000    80.000000     1.000000  ...   \n",
       "25%       0.000000    16.000000     0.200000   109.000000     3.000000  ...   \n",
       "50%       1.000000    32.000000     0.500000   141.000000     4.000000  ...   \n",
       "75%       1.000000    48.000000     0.800000   170.000000     7.000000  ...   \n",
       "max       1.000000    64.000000     1.000000   200.000000     8.000000  ...   \n",
       "\n",
       "         px_height     px_width          ram         sc_h         sc_w  \\\n",
       "count  2000.000000  2000.000000  2000.000000  2000.000000  2000.000000   \n",
       "mean    645.108000  1251.515500  2124.213000    12.306500     5.767000   \n",
       "std     443.780811   432.199447  1084.732044     4.213245     4.356398   \n",
       "min       0.000000   500.000000   256.000000     5.000000     0.000000   \n",
       "25%     282.750000   874.750000  1207.500000     9.000000     2.000000   \n",
       "50%     564.000000  1247.000000  2146.500000    12.000000     5.000000   \n",
       "75%     947.250000  1633.000000  3064.500000    16.000000     9.000000   \n",
       "max    1960.000000  1998.000000  3998.000000    19.000000    18.000000   \n",
       "\n",
       "         talk_time      three_g  touch_screen         wifi  price_range  \n",
       "count  2000.000000  2000.000000   2000.000000  2000.000000  2000.000000  \n",
       "mean     11.011000     0.761500      0.503000     0.507000     1.500000  \n",
       "std       5.463955     0.426273      0.500116     0.500076     1.118314  \n",
       "min       2.000000     0.000000      0.000000     0.000000     0.000000  \n",
       "25%       6.000000     1.000000      0.000000     0.000000     0.750000  \n",
       "50%      11.000000     1.000000      1.000000     1.000000     1.500000  \n",
       "75%      16.000000     1.000000      1.000000     1.000000     2.250000  \n",
       "max      20.000000     1.000000      1.000000     1.000000     3.000000  \n",
       "\n",
       "[8 rows x 21 columns]"
      ]
     },
     "execution_count": 51,
     "metadata": {},
     "output_type": "execute_result"
    }
   ],
   "source": [
    "dataset.describe()"
   ]
  },
  {
   "cell_type": "code",
   "execution_count": 52,
   "id": "96cc2a45",
   "metadata": {},
   "outputs": [],
   "source": [
    "yval = dataset['price_range']\n",
    "xval = dataset.drop('price_range', axis = 1)"
   ]
  },
  {
   "cell_type": "code",
   "execution_count": 53,
   "id": "c2aff4d7",
   "metadata": {},
   "outputs": [
    {
     "data": {
      "text/plain": [
       "array([1, 2, 3, 0], dtype=int64)"
      ]
     },
     "execution_count": 53,
     "metadata": {},
     "output_type": "execute_result"
    }
   ],
   "source": [
    "yval.unique()"
   ]
  },
  {
   "cell_type": "code",
   "execution_count": 150,
   "id": "da60076b",
   "metadata": {},
   "outputs": [],
   "source": [
    "xtrain, xvalid, ytrain, yvalid = train_test_split(xval, yval, test_size = 0.2, random_state = 102, stratify = yval)"
   ]
  },
  {
   "cell_type": "code",
   "execution_count": 164,
   "id": "d062702f",
   "metadata": {},
   "outputs": [
    {
     "name": "stdout",
     "output_type": "stream",
     "text": [
      "(1600, 20)\n",
      "(400, 20)\n"
     ]
    }
   ],
   "source": [
    "print(xtrain.shape)\n",
    "print(xvalid.shape)"
   ]
  },
  {
   "cell_type": "code",
   "execution_count": 165,
   "id": "863f1ebd",
   "metadata": {},
   "outputs": [
    {
     "data": {
      "text/html": [
       "<style>#sk-container-id-10 {color: black;background-color: white;}#sk-container-id-10 pre{padding: 0;}#sk-container-id-10 div.sk-toggleable {background-color: white;}#sk-container-id-10 label.sk-toggleable__label {cursor: pointer;display: block;width: 100%;margin-bottom: 0;padding: 0.3em;box-sizing: border-box;text-align: center;}#sk-container-id-10 label.sk-toggleable__label-arrow:before {content: \"▸\";float: left;margin-right: 0.25em;color: #696969;}#sk-container-id-10 label.sk-toggleable__label-arrow:hover:before {color: black;}#sk-container-id-10 div.sk-estimator:hover label.sk-toggleable__label-arrow:before {color: black;}#sk-container-id-10 div.sk-toggleable__content {max-height: 0;max-width: 0;overflow: hidden;text-align: left;background-color: #f0f8ff;}#sk-container-id-10 div.sk-toggleable__content pre {margin: 0.2em;color: black;border-radius: 0.25em;background-color: #f0f8ff;}#sk-container-id-10 input.sk-toggleable__control:checked~div.sk-toggleable__content {max-height: 200px;max-width: 100%;overflow: auto;}#sk-container-id-10 input.sk-toggleable__control:checked~label.sk-toggleable__label-arrow:before {content: \"▾\";}#sk-container-id-10 div.sk-estimator input.sk-toggleable__control:checked~label.sk-toggleable__label {background-color: #d4ebff;}#sk-container-id-10 div.sk-label input.sk-toggleable__control:checked~label.sk-toggleable__label {background-color: #d4ebff;}#sk-container-id-10 input.sk-hidden--visually {border: 0;clip: rect(1px 1px 1px 1px);clip: rect(1px, 1px, 1px, 1px);height: 1px;margin: -1px;overflow: hidden;padding: 0;position: absolute;width: 1px;}#sk-container-id-10 div.sk-estimator {font-family: monospace;background-color: #f0f8ff;border: 1px dotted black;border-radius: 0.25em;box-sizing: border-box;margin-bottom: 0.5em;}#sk-container-id-10 div.sk-estimator:hover {background-color: #d4ebff;}#sk-container-id-10 div.sk-parallel-item::after {content: \"\";width: 100%;border-bottom: 1px solid gray;flex-grow: 1;}#sk-container-id-10 div.sk-label:hover label.sk-toggleable__label {background-color: #d4ebff;}#sk-container-id-10 div.sk-serial::before {content: \"\";position: absolute;border-left: 1px solid gray;box-sizing: border-box;top: 0;bottom: 0;left: 50%;z-index: 0;}#sk-container-id-10 div.sk-serial {display: flex;flex-direction: column;align-items: center;background-color: white;padding-right: 0.2em;padding-left: 0.2em;position: relative;}#sk-container-id-10 div.sk-item {position: relative;z-index: 1;}#sk-container-id-10 div.sk-parallel {display: flex;align-items: stretch;justify-content: center;background-color: white;position: relative;}#sk-container-id-10 div.sk-item::before, #sk-container-id-10 div.sk-parallel-item::before {content: \"\";position: absolute;border-left: 1px solid gray;box-sizing: border-box;top: 0;bottom: 0;left: 50%;z-index: -1;}#sk-container-id-10 div.sk-parallel-item {display: flex;flex-direction: column;z-index: 1;position: relative;background-color: white;}#sk-container-id-10 div.sk-parallel-item:first-child::after {align-self: flex-end;width: 50%;}#sk-container-id-10 div.sk-parallel-item:last-child::after {align-self: flex-start;width: 50%;}#sk-container-id-10 div.sk-parallel-item:only-child::after {width: 0;}#sk-container-id-10 div.sk-dashed-wrapped {border: 1px dashed gray;margin: 0 0.4em 0.5em 0.4em;box-sizing: border-box;padding-bottom: 0.4em;background-color: white;}#sk-container-id-10 div.sk-label label {font-family: monospace;font-weight: bold;display: inline-block;line-height: 1.2em;}#sk-container-id-10 div.sk-label-container {text-align: center;}#sk-container-id-10 div.sk-container {/* jupyter's `normalize.less` sets `[hidden] { display: none; }` but bootstrap.min.css set `[hidden] { display: none !important; }` so we also need the `!important` here to be able to override the default hidden behavior on the sphinx rendered scikit-learn.org. See: https://github.com/scikit-learn/scikit-learn/issues/21755 */display: inline-block !important;position: relative;}#sk-container-id-10 div.sk-text-repr-fallback {display: none;}</style><div id=\"sk-container-id-10\" class=\"sk-top-container\"><div class=\"sk-text-repr-fallback\"><pre>KNeighborsClassifier(n_neighbors=3)</pre><b>In a Jupyter environment, please rerun this cell to show the HTML representation or trust the notebook. <br />On GitHub, the HTML representation is unable to render, please try loading this page with nbviewer.org.</b></div><div class=\"sk-container\" hidden><div class=\"sk-item\"><div class=\"sk-estimator sk-toggleable\"><input class=\"sk-toggleable__control sk-hidden--visually\" id=\"sk-estimator-id-10\" type=\"checkbox\" checked><label for=\"sk-estimator-id-10\" class=\"sk-toggleable__label sk-toggleable__label-arrow\">KNeighborsClassifier</label><div class=\"sk-toggleable__content\"><pre>KNeighborsClassifier(n_neighbors=3)</pre></div></div></div></div></div>"
      ],
      "text/plain": [
       "KNeighborsClassifier(n_neighbors=3)"
      ]
     },
     "execution_count": 165,
     "metadata": {},
     "output_type": "execute_result"
    }
   ],
   "source": [
    "model_knn = KNeighborsClassifier(n_neighbors=3)  \n",
    "model_knn.fit(xtrain, ytrain)"
   ]
  },
  {
   "cell_type": "code",
   "execution_count": 166,
   "id": "495641ac",
   "metadata": {},
   "outputs": [],
   "source": [
    "ypredict = model_knn.predict(xvalid) "
   ]
  },
  {
   "cell_type": "code",
   "execution_count": 167,
   "id": "66dec9ba",
   "metadata": {},
   "outputs": [
    {
     "name": "stdout",
     "output_type": "stream",
     "text": [
      "[[94  6  0  0]\n",
      " [ 3 96  1  0]\n",
      " [ 0  3 92  5]\n",
      " [ 0  0  7 93]]\n"
     ]
    }
   ],
   "source": [
    "print(metrics.confusion_matrix(yvalid, ypredict))"
   ]
  },
  {
   "cell_type": "code",
   "execution_count": 168,
   "id": "d7279f4f",
   "metadata": {},
   "outputs": [
    {
     "name": "stdout",
     "output_type": "stream",
     "text": [
      "0.9375\n"
     ]
    }
   ],
   "source": [
    "print(accuracy_score(yvalid, ypredict)) "
   ]
  },
  {
   "cell_type": "code",
   "execution_count": 169,
   "id": "ef55a964",
   "metadata": {
    "scrolled": false
   },
   "outputs": [
    {
     "data": {
      "text/plain": [
       "{'n_neighbors': 9}"
      ]
     },
     "execution_count": 169,
     "metadata": {},
     "output_type": "execute_result"
    }
   ],
   "source": [
    "from sklearn.model_selection import GridSearchCV\n",
    "parameters = {'n_neighbors':np.arange(1,30)}\n",
    "\n",
    "knn = KNeighborsClassifier()\n",
    "\n",
    "model = GridSearchCV(knn, parameters, cv=5)\n",
    "model.fit(xtrain, ytrain)\n",
    "\n",
    "model.best_params_"
   ]
  },
  {
   "cell_type": "code",
   "execution_count": 170,
   "id": "2abb6cc1",
   "metadata": {},
   "outputs": [
    {
     "data": {
      "text/html": [
       "<style>#sk-container-id-11 {color: black;background-color: white;}#sk-container-id-11 pre{padding: 0;}#sk-container-id-11 div.sk-toggleable {background-color: white;}#sk-container-id-11 label.sk-toggleable__label {cursor: pointer;display: block;width: 100%;margin-bottom: 0;padding: 0.3em;box-sizing: border-box;text-align: center;}#sk-container-id-11 label.sk-toggleable__label-arrow:before {content: \"▸\";float: left;margin-right: 0.25em;color: #696969;}#sk-container-id-11 label.sk-toggleable__label-arrow:hover:before {color: black;}#sk-container-id-11 div.sk-estimator:hover label.sk-toggleable__label-arrow:before {color: black;}#sk-container-id-11 div.sk-toggleable__content {max-height: 0;max-width: 0;overflow: hidden;text-align: left;background-color: #f0f8ff;}#sk-container-id-11 div.sk-toggleable__content pre {margin: 0.2em;color: black;border-radius: 0.25em;background-color: #f0f8ff;}#sk-container-id-11 input.sk-toggleable__control:checked~div.sk-toggleable__content {max-height: 200px;max-width: 100%;overflow: auto;}#sk-container-id-11 input.sk-toggleable__control:checked~label.sk-toggleable__label-arrow:before {content: \"▾\";}#sk-container-id-11 div.sk-estimator input.sk-toggleable__control:checked~label.sk-toggleable__label {background-color: #d4ebff;}#sk-container-id-11 div.sk-label input.sk-toggleable__control:checked~label.sk-toggleable__label {background-color: #d4ebff;}#sk-container-id-11 input.sk-hidden--visually {border: 0;clip: rect(1px 1px 1px 1px);clip: rect(1px, 1px, 1px, 1px);height: 1px;margin: -1px;overflow: hidden;padding: 0;position: absolute;width: 1px;}#sk-container-id-11 div.sk-estimator {font-family: monospace;background-color: #f0f8ff;border: 1px dotted black;border-radius: 0.25em;box-sizing: border-box;margin-bottom: 0.5em;}#sk-container-id-11 div.sk-estimator:hover {background-color: #d4ebff;}#sk-container-id-11 div.sk-parallel-item::after {content: \"\";width: 100%;border-bottom: 1px solid gray;flex-grow: 1;}#sk-container-id-11 div.sk-label:hover label.sk-toggleable__label {background-color: #d4ebff;}#sk-container-id-11 div.sk-serial::before {content: \"\";position: absolute;border-left: 1px solid gray;box-sizing: border-box;top: 0;bottom: 0;left: 50%;z-index: 0;}#sk-container-id-11 div.sk-serial {display: flex;flex-direction: column;align-items: center;background-color: white;padding-right: 0.2em;padding-left: 0.2em;position: relative;}#sk-container-id-11 div.sk-item {position: relative;z-index: 1;}#sk-container-id-11 div.sk-parallel {display: flex;align-items: stretch;justify-content: center;background-color: white;position: relative;}#sk-container-id-11 div.sk-item::before, #sk-container-id-11 div.sk-parallel-item::before {content: \"\";position: absolute;border-left: 1px solid gray;box-sizing: border-box;top: 0;bottom: 0;left: 50%;z-index: -1;}#sk-container-id-11 div.sk-parallel-item {display: flex;flex-direction: column;z-index: 1;position: relative;background-color: white;}#sk-container-id-11 div.sk-parallel-item:first-child::after {align-self: flex-end;width: 50%;}#sk-container-id-11 div.sk-parallel-item:last-child::after {align-self: flex-start;width: 50%;}#sk-container-id-11 div.sk-parallel-item:only-child::after {width: 0;}#sk-container-id-11 div.sk-dashed-wrapped {border: 1px dashed gray;margin: 0 0.4em 0.5em 0.4em;box-sizing: border-box;padding-bottom: 0.4em;background-color: white;}#sk-container-id-11 div.sk-label label {font-family: monospace;font-weight: bold;display: inline-block;line-height: 1.2em;}#sk-container-id-11 div.sk-label-container {text-align: center;}#sk-container-id-11 div.sk-container {/* jupyter's `normalize.less` sets `[hidden] { display: none; }` but bootstrap.min.css set `[hidden] { display: none !important; }` so we also need the `!important` here to be able to override the default hidden behavior on the sphinx rendered scikit-learn.org. See: https://github.com/scikit-learn/scikit-learn/issues/21755 */display: inline-block !important;position: relative;}#sk-container-id-11 div.sk-text-repr-fallback {display: none;}</style><div id=\"sk-container-id-11\" class=\"sk-top-container\"><div class=\"sk-text-repr-fallback\"><pre>KNeighborsClassifier(n_neighbors=9)</pre><b>In a Jupyter environment, please rerun this cell to show the HTML representation or trust the notebook. <br />On GitHub, the HTML representation is unable to render, please try loading this page with nbviewer.org.</b></div><div class=\"sk-container\" hidden><div class=\"sk-item\"><div class=\"sk-estimator sk-toggleable\"><input class=\"sk-toggleable__control sk-hidden--visually\" id=\"sk-estimator-id-11\" type=\"checkbox\" checked><label for=\"sk-estimator-id-11\" class=\"sk-toggleable__label sk-toggleable__label-arrow\">KNeighborsClassifier</label><div class=\"sk-toggleable__content\"><pre>KNeighborsClassifier(n_neighbors=9)</pre></div></div></div></div></div>"
      ],
      "text/plain": [
       "KNeighborsClassifier(n_neighbors=9)"
      ]
     },
     "execution_count": 170,
     "metadata": {},
     "output_type": "execute_result"
    }
   ],
   "source": [
    "#neighbor k=9\n",
    "model_knn = KNeighborsClassifier(n_neighbors=9)  \n",
    "model_knn.fit(xtrain, ytrain) "
   ]
  },
  {
   "cell_type": "code",
   "execution_count": 171,
   "id": "09cf14cb",
   "metadata": {},
   "outputs": [
    {
     "name": "stdout",
     "output_type": "stream",
     "text": [
      "[[94  6  0  0]\n",
      " [ 3 96  1  0]\n",
      " [ 0  3 92  5]\n",
      " [ 0  0  7 93]]\n"
     ]
    }
   ],
   "source": [
    "#printing the confusion matrix\n",
    "print(metrics.confusion_matrix(yvalid, ypredict)) "
   ]
  },
  {
   "cell_type": "code",
   "execution_count": 172,
   "id": "c15c432f",
   "metadata": {},
   "outputs": [],
   "source": [
    "accuracyKNN = accuracy_score(yvalid, ypredict)"
   ]
  },
  {
   "cell_type": "code",
   "execution_count": 173,
   "id": "3bf67d73",
   "metadata": {},
   "outputs": [
    {
     "data": {
      "text/plain": [
       "0.9375"
      ]
     },
     "execution_count": 173,
     "metadata": {},
     "output_type": "execute_result"
    }
   ],
   "source": [
    "accuracyKNN\n"
   ]
  },
  {
   "cell_type": "code",
   "execution_count": 199,
   "id": "05d85155",
   "metadata": {},
   "outputs": [],
   "source": [
    "#multi layered neural network\n",
    "import pandas as pd\n",
    "from sklearn import preprocessing\n",
    "from sklearn.model_selection import train_test_split\n",
    "import numpy as np "
   ]
  },
  {
   "cell_type": "code",
   "execution_count": null,
   "id": "5daac95d",
   "metadata": {},
   "outputs": [],
   "source": []
  },
  {
   "cell_type": "code",
   "execution_count": 200,
   "id": "a30ec717",
   "metadata": {},
   "outputs": [],
   "source": [
    "#import the data set\n",
    "dataf = pd.read_csv('Mobile_Dataset.csv')"
   ]
  },
  {
   "cell_type": "code",
   "execution_count": 201,
   "id": "8a9de733",
   "metadata": {
    "scrolled": true
   },
   "outputs": [
    {
     "data": {
      "text/html": [
       "<div>\n",
       "<style scoped>\n",
       "    .dataframe tbody tr th:only-of-type {\n",
       "        vertical-align: middle;\n",
       "    }\n",
       "\n",
       "    .dataframe tbody tr th {\n",
       "        vertical-align: top;\n",
       "    }\n",
       "\n",
       "    .dataframe thead th {\n",
       "        text-align: right;\n",
       "    }\n",
       "</style>\n",
       "<table border=\"1\" class=\"dataframe\">\n",
       "  <thead>\n",
       "    <tr style=\"text-align: right;\">\n",
       "      <th></th>\n",
       "      <th>battery_power</th>\n",
       "      <th>blue</th>\n",
       "      <th>clock_speed</th>\n",
       "      <th>dual_sim</th>\n",
       "      <th>fc</th>\n",
       "      <th>four_g</th>\n",
       "      <th>int_memory</th>\n",
       "      <th>m_dep</th>\n",
       "      <th>mobile_wt</th>\n",
       "      <th>n_cores</th>\n",
       "      <th>...</th>\n",
       "      <th>px_height</th>\n",
       "      <th>px_width</th>\n",
       "      <th>ram</th>\n",
       "      <th>sc_h</th>\n",
       "      <th>sc_w</th>\n",
       "      <th>talk_time</th>\n",
       "      <th>three_g</th>\n",
       "      <th>touch_screen</th>\n",
       "      <th>wifi</th>\n",
       "      <th>price_range</th>\n",
       "    </tr>\n",
       "  </thead>\n",
       "  <tbody>\n",
       "    <tr>\n",
       "      <th>0</th>\n",
       "      <td>842</td>\n",
       "      <td>0</td>\n",
       "      <td>2.2</td>\n",
       "      <td>0</td>\n",
       "      <td>1</td>\n",
       "      <td>0</td>\n",
       "      <td>7</td>\n",
       "      <td>0.6</td>\n",
       "      <td>188</td>\n",
       "      <td>2</td>\n",
       "      <td>...</td>\n",
       "      <td>20</td>\n",
       "      <td>756</td>\n",
       "      <td>2549</td>\n",
       "      <td>9</td>\n",
       "      <td>7</td>\n",
       "      <td>19</td>\n",
       "      <td>0</td>\n",
       "      <td>0</td>\n",
       "      <td>1</td>\n",
       "      <td>1</td>\n",
       "    </tr>\n",
       "    <tr>\n",
       "      <th>1</th>\n",
       "      <td>1021</td>\n",
       "      <td>1</td>\n",
       "      <td>0.5</td>\n",
       "      <td>1</td>\n",
       "      <td>0</td>\n",
       "      <td>1</td>\n",
       "      <td>53</td>\n",
       "      <td>0.7</td>\n",
       "      <td>136</td>\n",
       "      <td>3</td>\n",
       "      <td>...</td>\n",
       "      <td>905</td>\n",
       "      <td>1988</td>\n",
       "      <td>2631</td>\n",
       "      <td>17</td>\n",
       "      <td>3</td>\n",
       "      <td>7</td>\n",
       "      <td>1</td>\n",
       "      <td>1</td>\n",
       "      <td>0</td>\n",
       "      <td>2</td>\n",
       "    </tr>\n",
       "    <tr>\n",
       "      <th>2</th>\n",
       "      <td>563</td>\n",
       "      <td>1</td>\n",
       "      <td>0.5</td>\n",
       "      <td>1</td>\n",
       "      <td>2</td>\n",
       "      <td>1</td>\n",
       "      <td>41</td>\n",
       "      <td>0.9</td>\n",
       "      <td>145</td>\n",
       "      <td>5</td>\n",
       "      <td>...</td>\n",
       "      <td>1263</td>\n",
       "      <td>1716</td>\n",
       "      <td>2603</td>\n",
       "      <td>11</td>\n",
       "      <td>2</td>\n",
       "      <td>9</td>\n",
       "      <td>1</td>\n",
       "      <td>1</td>\n",
       "      <td>0</td>\n",
       "      <td>2</td>\n",
       "    </tr>\n",
       "    <tr>\n",
       "      <th>3</th>\n",
       "      <td>615</td>\n",
       "      <td>1</td>\n",
       "      <td>2.5</td>\n",
       "      <td>0</td>\n",
       "      <td>0</td>\n",
       "      <td>0</td>\n",
       "      <td>10</td>\n",
       "      <td>0.8</td>\n",
       "      <td>131</td>\n",
       "      <td>6</td>\n",
       "      <td>...</td>\n",
       "      <td>1216</td>\n",
       "      <td>1786</td>\n",
       "      <td>2769</td>\n",
       "      <td>16</td>\n",
       "      <td>8</td>\n",
       "      <td>11</td>\n",
       "      <td>1</td>\n",
       "      <td>0</td>\n",
       "      <td>0</td>\n",
       "      <td>2</td>\n",
       "    </tr>\n",
       "    <tr>\n",
       "      <th>4</th>\n",
       "      <td>1821</td>\n",
       "      <td>1</td>\n",
       "      <td>1.2</td>\n",
       "      <td>0</td>\n",
       "      <td>13</td>\n",
       "      <td>1</td>\n",
       "      <td>44</td>\n",
       "      <td>0.6</td>\n",
       "      <td>141</td>\n",
       "      <td>2</td>\n",
       "      <td>...</td>\n",
       "      <td>1208</td>\n",
       "      <td>1212</td>\n",
       "      <td>1411</td>\n",
       "      <td>8</td>\n",
       "      <td>2</td>\n",
       "      <td>15</td>\n",
       "      <td>1</td>\n",
       "      <td>1</td>\n",
       "      <td>0</td>\n",
       "      <td>1</td>\n",
       "    </tr>\n",
       "    <tr>\n",
       "      <th>...</th>\n",
       "      <td>...</td>\n",
       "      <td>...</td>\n",
       "      <td>...</td>\n",
       "      <td>...</td>\n",
       "      <td>...</td>\n",
       "      <td>...</td>\n",
       "      <td>...</td>\n",
       "      <td>...</td>\n",
       "      <td>...</td>\n",
       "      <td>...</td>\n",
       "      <td>...</td>\n",
       "      <td>...</td>\n",
       "      <td>...</td>\n",
       "      <td>...</td>\n",
       "      <td>...</td>\n",
       "      <td>...</td>\n",
       "      <td>...</td>\n",
       "      <td>...</td>\n",
       "      <td>...</td>\n",
       "      <td>...</td>\n",
       "      <td>...</td>\n",
       "    </tr>\n",
       "    <tr>\n",
       "      <th>1995</th>\n",
       "      <td>794</td>\n",
       "      <td>1</td>\n",
       "      <td>0.5</td>\n",
       "      <td>1</td>\n",
       "      <td>0</td>\n",
       "      <td>1</td>\n",
       "      <td>2</td>\n",
       "      <td>0.8</td>\n",
       "      <td>106</td>\n",
       "      <td>6</td>\n",
       "      <td>...</td>\n",
       "      <td>1222</td>\n",
       "      <td>1890</td>\n",
       "      <td>668</td>\n",
       "      <td>13</td>\n",
       "      <td>4</td>\n",
       "      <td>19</td>\n",
       "      <td>1</td>\n",
       "      <td>1</td>\n",
       "      <td>0</td>\n",
       "      <td>0</td>\n",
       "    </tr>\n",
       "    <tr>\n",
       "      <th>1996</th>\n",
       "      <td>1965</td>\n",
       "      <td>1</td>\n",
       "      <td>2.6</td>\n",
       "      <td>1</td>\n",
       "      <td>0</td>\n",
       "      <td>0</td>\n",
       "      <td>39</td>\n",
       "      <td>0.2</td>\n",
       "      <td>187</td>\n",
       "      <td>4</td>\n",
       "      <td>...</td>\n",
       "      <td>915</td>\n",
       "      <td>1965</td>\n",
       "      <td>2032</td>\n",
       "      <td>11</td>\n",
       "      <td>10</td>\n",
       "      <td>16</td>\n",
       "      <td>1</td>\n",
       "      <td>1</td>\n",
       "      <td>1</td>\n",
       "      <td>2</td>\n",
       "    </tr>\n",
       "    <tr>\n",
       "      <th>1997</th>\n",
       "      <td>1911</td>\n",
       "      <td>0</td>\n",
       "      <td>0.9</td>\n",
       "      <td>1</td>\n",
       "      <td>1</td>\n",
       "      <td>1</td>\n",
       "      <td>36</td>\n",
       "      <td>0.7</td>\n",
       "      <td>108</td>\n",
       "      <td>8</td>\n",
       "      <td>...</td>\n",
       "      <td>868</td>\n",
       "      <td>1632</td>\n",
       "      <td>3057</td>\n",
       "      <td>9</td>\n",
       "      <td>1</td>\n",
       "      <td>5</td>\n",
       "      <td>1</td>\n",
       "      <td>1</td>\n",
       "      <td>0</td>\n",
       "      <td>3</td>\n",
       "    </tr>\n",
       "    <tr>\n",
       "      <th>1998</th>\n",
       "      <td>1512</td>\n",
       "      <td>0</td>\n",
       "      <td>0.9</td>\n",
       "      <td>0</td>\n",
       "      <td>4</td>\n",
       "      <td>1</td>\n",
       "      <td>46</td>\n",
       "      <td>0.1</td>\n",
       "      <td>145</td>\n",
       "      <td>5</td>\n",
       "      <td>...</td>\n",
       "      <td>336</td>\n",
       "      <td>670</td>\n",
       "      <td>869</td>\n",
       "      <td>18</td>\n",
       "      <td>10</td>\n",
       "      <td>19</td>\n",
       "      <td>1</td>\n",
       "      <td>1</td>\n",
       "      <td>1</td>\n",
       "      <td>0</td>\n",
       "    </tr>\n",
       "    <tr>\n",
       "      <th>1999</th>\n",
       "      <td>510</td>\n",
       "      <td>1</td>\n",
       "      <td>2.0</td>\n",
       "      <td>1</td>\n",
       "      <td>5</td>\n",
       "      <td>1</td>\n",
       "      <td>45</td>\n",
       "      <td>0.9</td>\n",
       "      <td>168</td>\n",
       "      <td>6</td>\n",
       "      <td>...</td>\n",
       "      <td>483</td>\n",
       "      <td>754</td>\n",
       "      <td>3919</td>\n",
       "      <td>19</td>\n",
       "      <td>4</td>\n",
       "      <td>2</td>\n",
       "      <td>1</td>\n",
       "      <td>1</td>\n",
       "      <td>1</td>\n",
       "      <td>3</td>\n",
       "    </tr>\n",
       "  </tbody>\n",
       "</table>\n",
       "<p>2000 rows × 21 columns</p>\n",
       "</div>"
      ],
      "text/plain": [
       "      battery_power  blue  clock_speed  dual_sim  fc  four_g  int_memory  \\\n",
       "0               842     0          2.2         0   1       0           7   \n",
       "1              1021     1          0.5         1   0       1          53   \n",
       "2               563     1          0.5         1   2       1          41   \n",
       "3               615     1          2.5         0   0       0          10   \n",
       "4              1821     1          1.2         0  13       1          44   \n",
       "...             ...   ...          ...       ...  ..     ...         ...   \n",
       "1995            794     1          0.5         1   0       1           2   \n",
       "1996           1965     1          2.6         1   0       0          39   \n",
       "1997           1911     0          0.9         1   1       1          36   \n",
       "1998           1512     0          0.9         0   4       1          46   \n",
       "1999            510     1          2.0         1   5       1          45   \n",
       "\n",
       "      m_dep  mobile_wt  n_cores  ...  px_height  px_width   ram  sc_h  sc_w  \\\n",
       "0       0.6        188        2  ...         20       756  2549     9     7   \n",
       "1       0.7        136        3  ...        905      1988  2631    17     3   \n",
       "2       0.9        145        5  ...       1263      1716  2603    11     2   \n",
       "3       0.8        131        6  ...       1216      1786  2769    16     8   \n",
       "4       0.6        141        2  ...       1208      1212  1411     8     2   \n",
       "...     ...        ...      ...  ...        ...       ...   ...   ...   ...   \n",
       "1995    0.8        106        6  ...       1222      1890   668    13     4   \n",
       "1996    0.2        187        4  ...        915      1965  2032    11    10   \n",
       "1997    0.7        108        8  ...        868      1632  3057     9     1   \n",
       "1998    0.1        145        5  ...        336       670   869    18    10   \n",
       "1999    0.9        168        6  ...        483       754  3919    19     4   \n",
       "\n",
       "      talk_time  three_g  touch_screen  wifi  price_range  \n",
       "0            19        0             0     1            1  \n",
       "1             7        1             1     0            2  \n",
       "2             9        1             1     0            2  \n",
       "3            11        1             0     0            2  \n",
       "4            15        1             1     0            1  \n",
       "...         ...      ...           ...   ...          ...  \n",
       "1995         19        1             1     0            0  \n",
       "1996         16        1             1     1            2  \n",
       "1997          5        1             1     0            3  \n",
       "1998         19        1             1     1            0  \n",
       "1999          2        1             1     1            3  \n",
       "\n",
       "[2000 rows x 21 columns]"
      ]
     },
     "execution_count": 201,
     "metadata": {},
     "output_type": "execute_result"
    }
   ],
   "source": [
    "dataf"
   ]
  },
  {
   "cell_type": "code",
   "execution_count": 202,
   "id": "21f7be70",
   "metadata": {},
   "outputs": [],
   "source": [
    "data = dataf.values"
   ]
  },
  {
   "cell_type": "code",
   "execution_count": 203,
   "id": "4b23173a",
   "metadata": {
    "scrolled": true
   },
   "outputs": [
    {
     "data": {
      "text/plain": [
       "array([[8.420e+02, 0.000e+00, 2.200e+00, ..., 0.000e+00, 1.000e+00,\n",
       "        1.000e+00],\n",
       "       [1.021e+03, 1.000e+00, 5.000e-01, ..., 1.000e+00, 0.000e+00,\n",
       "        2.000e+00],\n",
       "       [5.630e+02, 1.000e+00, 5.000e-01, ..., 1.000e+00, 0.000e+00,\n",
       "        2.000e+00],\n",
       "       ...,\n",
       "       [1.911e+03, 0.000e+00, 9.000e-01, ..., 1.000e+00, 0.000e+00,\n",
       "        3.000e+00],\n",
       "       [1.512e+03, 0.000e+00, 9.000e-01, ..., 1.000e+00, 1.000e+00,\n",
       "        0.000e+00],\n",
       "       [5.100e+02, 1.000e+00, 2.000e+00, ..., 1.000e+00, 1.000e+00,\n",
       "        3.000e+00]])"
      ]
     },
     "execution_count": 203,
     "metadata": {},
     "output_type": "execute_result"
    }
   ],
   "source": [
    "data"
   ]
  },
  {
   "cell_type": "code",
   "execution_count": 204,
   "id": "d9d14d92",
   "metadata": {
    "scrolled": true
   },
   "outputs": [],
   "source": [
    "X = data[:,0:20]"
   ]
  },
  {
   "cell_type": "code",
   "execution_count": 205,
   "id": "efca213b",
   "metadata": {},
   "outputs": [],
   "source": [
    "Y = data[:,20]"
   ]
  },
  {
   "cell_type": "code",
   "execution_count": 220,
   "id": "1f20def1",
   "metadata": {},
   "outputs": [],
   "source": [
    "minmax_scaler = preprocessing.MinMaxScaler()\n",
    "Xscale = minmax_scaler.fit_transform(X)"
   ]
  },
  {
   "cell_type": "code",
   "execution_count": 221,
   "id": "11898811",
   "metadata": {},
   "outputs": [
    {
     "data": {
      "text/plain": [
       "array([[0.22778891, 0.        , 0.68      , ..., 0.        , 0.        ,\n",
       "        1.        ],\n",
       "       [0.34736139, 1.        , 0.        , ..., 1.        , 1.        ,\n",
       "        0.        ],\n",
       "       [0.04141617, 1.        , 0.        , ..., 1.        , 1.        ,\n",
       "        0.        ],\n",
       "       ...,\n",
       "       [0.94188377, 0.        , 0.16      , ..., 1.        , 1.        ,\n",
       "        0.        ],\n",
       "       [0.6753507 , 0.        , 0.16      , ..., 1.        , 1.        ,\n",
       "        1.        ],\n",
       "       [0.00601202, 1.        , 0.6       , ..., 1.        , 1.        ,\n",
       "        1.        ]])"
      ]
     },
     "execution_count": 221,
     "metadata": {},
     "output_type": "execute_result"
    }
   ],
   "source": [
    "Xscale"
   ]
  },
  {
   "cell_type": "code",
   "execution_count": 208,
   "id": "1e36ce81",
   "metadata": {},
   "outputs": [],
   "source": [
    "Y = dataf['price_range']"
   ]
  },
  {
   "cell_type": "code",
   "execution_count": 209,
   "id": "c8a78628",
   "metadata": {},
   "outputs": [],
   "source": [
    "Xtrain, Xval_and_test, Ytrain, Yval_and_test = train_test_split(X_scale, Y, test_size=0.3 , random_state=42)"
   ]
  },
  {
   "cell_type": "code",
   "execution_count": 210,
   "id": "0fd3b3ce",
   "metadata": {
    "scrolled": true
   },
   "outputs": [
    {
     "data": {
      "text/plain": [
       "array([[0.76486306, 0.        , 0.8       , ..., 1.        , 1.        ,\n",
       "        0.        ],\n",
       "       [0.45490982, 0.        , 0.        , ..., 1.        , 0.        ,\n",
       "        0.        ],\n",
       "       [0.98263193, 0.        , 0.96      , ..., 1.        , 1.        ,\n",
       "        0.        ],\n",
       "       ...,\n",
       "       [0.03607214, 1.        , 0.        , ..., 0.        , 1.        ,\n",
       "        1.        ],\n",
       "       [0.36539746, 1.        , 0.4       , ..., 1.        , 0.        ,\n",
       "        0.        ],\n",
       "       [0.3740815 , 1.        , 0.64      , ..., 1.        , 1.        ,\n",
       "        0.        ]])"
      ]
     },
     "execution_count": 210,
     "metadata": {},
     "output_type": "execute_result"
    }
   ],
   "source": [
    "Xval_and_test"
   ]
  },
  {
   "cell_type": "code",
   "execution_count": 211,
   "id": "dd831a0b",
   "metadata": {},
   "outputs": [],
   "source": [
    "Xval, X_test, Yval, Y_test = train_test_split(Xval_and_test, Yval_and_test, test_size=0.5)"
   ]
  },
  {
   "cell_type": "code",
   "execution_count": 212,
   "id": "c34dc3ee",
   "metadata": {},
   "outputs": [
    {
     "name": "stdout",
     "output_type": "stream",
     "text": [
      "(1400, 20) (300, 20) (300, 20) (1400,) (300,) (300,)\n"
     ]
    }
   ],
   "source": [
    "print(Xtrain.shape, X_val.shape, X_test.shape, Y_train.shape, Y_val.shape, Y_test.shape)"
   ]
  },
  {
   "cell_type": "code",
   "execution_count": 213,
   "id": "b292654d",
   "metadata": {},
   "outputs": [],
   "source": [
    "from keras.models import Sequential\n",
    "from keras.layers import Dense\n",
    "from keras.losses import SparseCategoricalCrossentropy\n",
    "from keras.optimizers import Adam\n",
    "\n",
    "model = Sequential([\n",
    " Dense(32, activation=\"relu\", input_shape=(20,)),\n",
    "    \n",
    " Dense(32,activation='relu'),\n",
    "    \n",
    " Dense(4,activation='softmax')\n",
    "])\n",
    "model.compile(\n",
    "   loss = SparseCategoricalCrossentropy(),\n",
    "   optimizer = Adam(),\n",
    "    \n",
    "   metrics=\"accuracy\")"
   ]
  },
  {
   "cell_type": "code",
   "execution_count": null,
   "id": "988b469a",
   "metadata": {},
   "outputs": [],
   "source": []
  },
  {
   "cell_type": "code",
   "execution_count": 214,
   "id": "4fbe192b",
   "metadata": {},
   "outputs": [
    {
     "name": "stdout",
     "output_type": "stream",
     "text": [
      "Epoch 1/100\n",
      "44/44 [==============================] - 1s 2ms/step - loss: 1.3867 - accuracy: 0.2764\n",
      "Epoch 2/100\n",
      "44/44 [==============================] - 0s 3ms/step - loss: 1.3439 - accuracy: 0.3514\n",
      "Epoch 3/100\n",
      "44/44 [==============================] - 0s 3ms/step - loss: 1.2872 - accuracy: 0.4171\n",
      "Epoch 4/100\n",
      "44/44 [==============================] - 0s 3ms/step - loss: 1.1678 - accuracy: 0.5043\n",
      "Epoch 5/100\n",
      "44/44 [==============================] - 0s 3ms/step - loss: 1.0121 - accuracy: 0.5886\n",
      "Epoch 6/100\n",
      "44/44 [==============================] - 0s 3ms/step - loss: 0.8653 - accuracy: 0.6650\n",
      "Epoch 7/100\n",
      "44/44 [==============================] - 0s 3ms/step - loss: 0.7467 - accuracy: 0.7321\n",
      "Epoch 8/100\n",
      "44/44 [==============================] - 0s 3ms/step - loss: 0.6578 - accuracy: 0.7750\n",
      "Epoch 9/100\n",
      "44/44 [==============================] - 0s 3ms/step - loss: 0.5838 - accuracy: 0.8150\n",
      "Epoch 10/100\n",
      "44/44 [==============================] - 0s 2ms/step - loss: 0.5245 - accuracy: 0.8193\n",
      "Epoch 11/100\n",
      "44/44 [==============================] - 0s 2ms/step - loss: 0.4820 - accuracy: 0.8386\n",
      "Epoch 12/100\n",
      "44/44 [==============================] - 0s 3ms/step - loss: 0.4468 - accuracy: 0.8507\n",
      "Epoch 13/100\n",
      "44/44 [==============================] - 0s 3ms/step - loss: 0.4088 - accuracy: 0.8650\n",
      "Epoch 14/100\n",
      "44/44 [==============================] - 0s 3ms/step - loss: 0.3815 - accuracy: 0.8779\n",
      "Epoch 15/100\n",
      "44/44 [==============================] - 0s 3ms/step - loss: 0.3600 - accuracy: 0.8793\n",
      "Epoch 16/100\n",
      "44/44 [==============================] - 0s 3ms/step - loss: 0.3399 - accuracy: 0.8836\n",
      "Epoch 17/100\n",
      "44/44 [==============================] - 0s 3ms/step - loss: 0.3143 - accuracy: 0.9036\n",
      "Epoch 18/100\n",
      "44/44 [==============================] - 0s 3ms/step - loss: 0.3001 - accuracy: 0.9014\n",
      "Epoch 19/100\n",
      "44/44 [==============================] - 0s 3ms/step - loss: 0.2822 - accuracy: 0.9093\n",
      "Epoch 20/100\n",
      "44/44 [==============================] - 0s 3ms/step - loss: 0.2696 - accuracy: 0.9143\n",
      "Epoch 21/100\n",
      "44/44 [==============================] - 0s 2ms/step - loss: 0.2524 - accuracy: 0.9186\n",
      "Epoch 22/100\n",
      "44/44 [==============================] - 0s 3ms/step - loss: 0.2434 - accuracy: 0.9214\n",
      "Epoch 23/100\n",
      "44/44 [==============================] - 0s 3ms/step - loss: 0.2330 - accuracy: 0.9314\n",
      "Epoch 24/100\n",
      "44/44 [==============================] - 0s 3ms/step - loss: 0.2246 - accuracy: 0.9307\n",
      "Epoch 25/100\n",
      "44/44 [==============================] - 0s 3ms/step - loss: 0.2110 - accuracy: 0.9379\n",
      "Epoch 26/100\n",
      "44/44 [==============================] - 0s 2ms/step - loss: 0.2103 - accuracy: 0.9364\n",
      "Epoch 27/100\n",
      "44/44 [==============================] - 0s 3ms/step - loss: 0.2011 - accuracy: 0.9429\n",
      "Epoch 28/100\n",
      "44/44 [==============================] - 0s 2ms/step - loss: 0.1944 - accuracy: 0.9364\n",
      "Epoch 29/100\n",
      "44/44 [==============================] - 0s 2ms/step - loss: 0.1844 - accuracy: 0.9471\n",
      "Epoch 30/100\n",
      "44/44 [==============================] - 0s 2ms/step - loss: 0.1809 - accuracy: 0.9450\n",
      "Epoch 31/100\n",
      "44/44 [==============================] - 0s 3ms/step - loss: 0.1882 - accuracy: 0.9314\n",
      "Epoch 32/100\n",
      "44/44 [==============================] - 0s 3ms/step - loss: 0.1739 - accuracy: 0.9407\n",
      "Epoch 33/100\n",
      "44/44 [==============================] - 0s 3ms/step - loss: 0.1638 - accuracy: 0.9457\n",
      "Epoch 34/100\n",
      "44/44 [==============================] - 0s 3ms/step - loss: 0.1586 - accuracy: 0.9579\n",
      "Epoch 35/100\n",
      "44/44 [==============================] - 0s 3ms/step - loss: 0.1545 - accuracy: 0.9543\n",
      "Epoch 36/100\n",
      "44/44 [==============================] - 0s 2ms/step - loss: 0.1504 - accuracy: 0.9579\n",
      "Epoch 37/100\n",
      "44/44 [==============================] - 0s 3ms/step - loss: 0.1493 - accuracy: 0.9564\n",
      "Epoch 38/100\n",
      "44/44 [==============================] - 0s 3ms/step - loss: 0.1431 - accuracy: 0.9614\n",
      "Epoch 39/100\n",
      "44/44 [==============================] - 0s 3ms/step - loss: 0.1396 - accuracy: 0.9629\n",
      "Epoch 40/100\n",
      "44/44 [==============================] - 0s 3ms/step - loss: 0.1381 - accuracy: 0.9543\n",
      "Epoch 41/100\n",
      "44/44 [==============================] - 0s 3ms/step - loss: 0.1352 - accuracy: 0.9607\n",
      "Epoch 42/100\n",
      "44/44 [==============================] - 0s 3ms/step - loss: 0.1286 - accuracy: 0.9607\n",
      "Epoch 43/100\n",
      "44/44 [==============================] - 0s 3ms/step - loss: 0.1282 - accuracy: 0.9629\n",
      "Epoch 44/100\n",
      "44/44 [==============================] - 0s 3ms/step - loss: 0.1257 - accuracy: 0.9600\n",
      "Epoch 45/100\n",
      "44/44 [==============================] - 0s 2ms/step - loss: 0.1217 - accuracy: 0.9650\n",
      "Epoch 46/100\n",
      "44/44 [==============================] - 0s 3ms/step - loss: 0.1182 - accuracy: 0.9686\n",
      "Epoch 47/100\n",
      "44/44 [==============================] - 0s 3ms/step - loss: 0.1202 - accuracy: 0.9650\n",
      "Epoch 48/100\n",
      "44/44 [==============================] - 0s 3ms/step - loss: 0.1113 - accuracy: 0.9707\n",
      "Epoch 49/100\n",
      "44/44 [==============================] - 0s 2ms/step - loss: 0.1113 - accuracy: 0.9700\n",
      "Epoch 50/100\n",
      "44/44 [==============================] - 0s 2ms/step - loss: 0.1084 - accuracy: 0.9757\n",
      "Epoch 51/100\n",
      "44/44 [==============================] - 0s 2ms/step - loss: 0.1073 - accuracy: 0.9736\n",
      "Epoch 52/100\n",
      "44/44 [==============================] - 0s 2ms/step - loss: 0.0986 - accuracy: 0.9771\n",
      "Epoch 53/100\n",
      "44/44 [==============================] - 0s 2ms/step - loss: 0.1008 - accuracy: 0.9757\n",
      "Epoch 54/100\n",
      "44/44 [==============================] - 0s 3ms/step - loss: 0.0998 - accuracy: 0.9679\n",
      "Epoch 55/100\n",
      "44/44 [==============================] - 0s 3ms/step - loss: 0.1128 - accuracy: 0.9614\n",
      "Epoch 56/100\n",
      "44/44 [==============================] - 0s 3ms/step - loss: 0.0937 - accuracy: 0.9800\n",
      "Epoch 57/100\n",
      "44/44 [==============================] - 0s 3ms/step - loss: 0.0929 - accuracy: 0.9821\n",
      "Epoch 58/100\n",
      "44/44 [==============================] - 0s 3ms/step - loss: 0.1052 - accuracy: 0.9707\n",
      "Epoch 59/100\n",
      "44/44 [==============================] - 0s 3ms/step - loss: 0.0909 - accuracy: 0.9757\n",
      "Epoch 60/100\n",
      "44/44 [==============================] - 0s 3ms/step - loss: 0.0952 - accuracy: 0.9729\n",
      "Epoch 61/100\n",
      "44/44 [==============================] - 0s 2ms/step - loss: 0.0908 - accuracy: 0.9743\n",
      "Epoch 62/100\n",
      "44/44 [==============================] - 0s 2ms/step - loss: 0.0879 - accuracy: 0.9750\n",
      "Epoch 63/100\n",
      "44/44 [==============================] - 0s 2ms/step - loss: 0.0815 - accuracy: 0.9850\n",
      "Epoch 64/100\n",
      "44/44 [==============================] - 0s 2ms/step - loss: 0.0833 - accuracy: 0.9743\n",
      "Epoch 65/100\n",
      "44/44 [==============================] - 0s 2ms/step - loss: 0.0771 - accuracy: 0.9857\n",
      "Epoch 66/100\n",
      "44/44 [==============================] - 0s 2ms/step - loss: 0.0806 - accuracy: 0.9807\n",
      "Epoch 67/100\n",
      "44/44 [==============================] - 0s 2ms/step - loss: 0.0763 - accuracy: 0.9850\n",
      "Epoch 68/100\n",
      "44/44 [==============================] - 0s 2ms/step - loss: 0.0779 - accuracy: 0.9821\n",
      "Epoch 69/100\n",
      "44/44 [==============================] - 0s 2ms/step - loss: 0.0846 - accuracy: 0.9736\n",
      "Epoch 70/100\n",
      "44/44 [==============================] - 0s 2ms/step - loss: 0.0773 - accuracy: 0.9800\n",
      "Epoch 71/100\n",
      "44/44 [==============================] - 0s 2ms/step - loss: 0.0761 - accuracy: 0.9843\n",
      "Epoch 72/100\n",
      "44/44 [==============================] - 0s 2ms/step - loss: 0.0725 - accuracy: 0.9850\n",
      "Epoch 73/100\n",
      "44/44 [==============================] - 0s 2ms/step - loss: 0.0684 - accuracy: 0.9864\n",
      "Epoch 74/100\n",
      "44/44 [==============================] - 0s 2ms/step - loss: 0.0686 - accuracy: 0.9871\n",
      "Epoch 75/100\n",
      "44/44 [==============================] - 0s 2ms/step - loss: 0.0670 - accuracy: 0.9871\n",
      "Epoch 76/100\n",
      "44/44 [==============================] - 0s 2ms/step - loss: 0.0747 - accuracy: 0.9800\n",
      "Epoch 77/100\n",
      "44/44 [==============================] - 0s 2ms/step - loss: 0.0660 - accuracy: 0.9843\n",
      "Epoch 78/100\n",
      "44/44 [==============================] - 0s 2ms/step - loss: 0.0695 - accuracy: 0.9793\n",
      "Epoch 79/100\n",
      "44/44 [==============================] - 0s 2ms/step - loss: 0.0649 - accuracy: 0.9871\n",
      "Epoch 80/100\n",
      "44/44 [==============================] - 0s 2ms/step - loss: 0.0608 - accuracy: 0.9914\n",
      "Epoch 81/100\n",
      "44/44 [==============================] - 0s 2ms/step - loss: 0.0630 - accuracy: 0.9864\n",
      "Epoch 82/100\n",
      "44/44 [==============================] - 0s 2ms/step - loss: 0.0606 - accuracy: 0.9879\n",
      "Epoch 83/100\n",
      "44/44 [==============================] - 0s 2ms/step - loss: 0.0632 - accuracy: 0.9864\n",
      "Epoch 84/100\n",
      "44/44 [==============================] - 0s 2ms/step - loss: 0.0645 - accuracy: 0.9864\n",
      "Epoch 85/100\n",
      "44/44 [==============================] - 0s 2ms/step - loss: 0.0634 - accuracy: 0.9814\n",
      "Epoch 86/100\n",
      "44/44 [==============================] - 0s 2ms/step - loss: 0.0598 - accuracy: 0.9843\n",
      "Epoch 87/100\n",
      "44/44 [==============================] - 0s 2ms/step - loss: 0.0596 - accuracy: 0.9900\n",
      "Epoch 88/100\n",
      "44/44 [==============================] - 0s 2ms/step - loss: 0.0682 - accuracy: 0.9800\n",
      "Epoch 89/100\n",
      "44/44 [==============================] - 0s 2ms/step - loss: 0.0540 - accuracy: 0.9886\n",
      "Epoch 90/100\n",
      "44/44 [==============================] - 0s 2ms/step - loss: 0.0539 - accuracy: 0.9907\n",
      "Epoch 91/100\n",
      "44/44 [==============================] - 0s 3ms/step - loss: 0.0516 - accuracy: 0.9929\n",
      "Epoch 92/100\n",
      "44/44 [==============================] - 0s 3ms/step - loss: 0.0582 - accuracy: 0.9857\n",
      "Epoch 93/100\n",
      "44/44 [==============================] - 0s 3ms/step - loss: 0.0505 - accuracy: 0.9936\n",
      "Epoch 94/100\n",
      "44/44 [==============================] - 0s 3ms/step - loss: 0.0543 - accuracy: 0.9836\n",
      "Epoch 95/100\n",
      "44/44 [==============================] - 0s 3ms/step - loss: 0.0506 - accuracy: 0.9921\n",
      "Epoch 96/100\n",
      "44/44 [==============================] - 0s 3ms/step - loss: 0.0502 - accuracy: 0.9900\n",
      "Epoch 97/100\n",
      "44/44 [==============================] - 0s 3ms/step - loss: 0.0507 - accuracy: 0.9864\n",
      "Epoch 98/100\n",
      "44/44 [==============================] - 0s 3ms/step - loss: 0.0481 - accuracy: 0.9929\n",
      "Epoch 99/100\n",
      "44/44 [==============================] - 0s 3ms/step - loss: 0.0458 - accuracy: 0.9929\n",
      "Epoch 100/100\n",
      "44/44 [==============================] - 0s 3ms/step - loss: 0.0468 - accuracy: 0.9914\n"
     ]
    },
    {
     "data": {
      "text/plain": [
       "<keras.callbacks.History at 0x2cfcadefca0>"
      ]
     },
     "execution_count": 214,
     "metadata": {},
     "output_type": "execute_result"
    }
   ],
   "source": [
    "model.fit(X_train,Y_train,epochs=100)"
   ]
  },
  {
   "cell_type": "code",
   "execution_count": 223,
   "id": "a2ad42e2",
   "metadata": {},
   "outputs": [
    {
     "name": "stdout",
     "output_type": "stream",
     "text": [
      "10/10 [==============================] - 0s 4ms/step - loss: 0.1231 - accuracy: 0.9500\n"
     ]
    },
    {
     "data": {
      "text/plain": [
       "0.949999988079071"
      ]
     },
     "execution_count": 223,
     "metadata": {},
     "output_type": "execute_result"
    }
   ],
   "source": [
    "model.evaluate(X_test, Y_test)[1]"
   ]
  },
  {
   "cell_type": "code",
   "execution_count": 216,
   "id": "4b873002",
   "metadata": {},
   "outputs": [],
   "source": [
    "def predictionrelease(preds):\n",
    "    arr=[]\n",
    "    for i in range(0,len(preds)):\n",
    "        ans=np.argmax(preds[i])\n",
    "        arr.append(ans)\n",
    "    len(arr)\n",
    "    return arr"
   ]
  },
  {
   "cell_type": "code",
   "execution_count": 217,
   "id": "0b729ce8",
   "metadata": {},
   "outputs": [
    {
     "name": "stdout",
     "output_type": "stream",
     "text": [
      "10/10 [==============================] - 0s 4ms/step\n"
     ]
    }
   ],
   "source": [
    "preds_test = model.predict(X_test)      \n",
    "test_preds = predictionrelease(preds_test)"
   ]
  },
  {
   "cell_type": "code",
   "execution_count": 218,
   "id": "bf4eecf9",
   "metadata": {
    "scrolled": true
   },
   "outputs": [
    {
     "name": "stdout",
     "output_type": "stream",
     "text": [
      "              precision    recall  f1-score   support\n",
      "\n",
      "           0       0.97      0.99      0.98        73\n",
      "           1       0.93      0.94      0.93        81\n",
      "           2       0.92      0.92      0.92        72\n",
      "           3       0.99      0.96      0.97        74\n",
      "\n",
      "    accuracy                           0.95       300\n",
      "   macro avg       0.95      0.95      0.95       300\n",
      "weighted avg       0.95      0.95      0.95       300\n",
      "\n"
     ]
    }
   ],
   "source": [
    "#cross validation method\n",
    "from sklearn.metrics import classification_report,confusion_matrix\n",
    "print(classification_report(Y_test,test_preds)) \n"
   ]
  },
  {
   "cell_type": "code",
   "execution_count": 219,
   "id": "6cf95e83",
   "metadata": {},
   "outputs": [],
   "source": [
    "import matplotlib.pyplot as plt"
   ]
  },
  {
   "cell_type": "code",
   "execution_count": 222,
   "id": "358b76ff",
   "metadata": {},
   "outputs": [
    {
     "data": {
      "image/png": "[encoded data removed]",
      "text/plain": [
       "<Figure size 640x480 with 1 Axes>"
      ]
     },
     "metadata": {},
     "output_type": "display_data"
    }
   ],
   "source": [
    "#compare two models and show them in a graph\n",
    "models = ['KNN','MLN']\n",
    "acc_scores = [0.9375,0.9499]\n",
    "\n",
    "plt.bar(models,acc_scores,color=['red','blue'])\n",
    "plt.ylabel(\"accuracy scores\")\n",
    "plt.title(\"Accuracy of two models\")\n",
    "plt.show()\n"
   ]
  },
  {
   "cell_type": "code",
   "execution_count": null,
   "id": "320887d5",
   "metadata": {},
   "outputs": [],
   "source": []
  },
  {
   "cell_type": "code",
   "execution_count": null,
   "id": "8baede5a",
   "metadata": {},
   "outputs": [],
   "source": []
  },
  {
   "cell_type": "code",
   "execution_count": null,
   "id": "a1547dfa",
   "metadata": {},
   "outputs": [],
   "source": []
  }
 ],
 "metadata": {
  "kernelspec": {
   "display_name": "Python 3 (ipykernel)",
   "language": "python",
   "name": "python3"
  },
  "language_info": {
   "codemirror_mode": {
    "name": "ipython",
    "version": 3
   },
   "file_extension": ".py",
   "mimetype": "text/x-python",
   "name": "python",
   "nbconvert_exporter": "python",
   "pygments_lexer": "ipython3",
   "version": "3.9.15"
  }
 },
 "nbformat": 4,
 "nbformat_minor": 5
}
